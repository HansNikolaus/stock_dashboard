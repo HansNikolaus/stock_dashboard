{
 "cells": [
  {
   "cell_type": "markdown",
   "id": "f04f97b1",
   "metadata": {},
   "source": [
    "# <div style=\"text-align: center; font-size: 40px;\"><strong>Instructions</strong></div>"
   ]
  },
  {
   "cell_type": "markdown",
   "id": "28f9a168",
   "metadata": {},
   "source": [
    "1. Make sure that all dependencies from requirements.txt are properly installed on your virtual environment, or code editor. If you are using a virtual environment make sure its folder is within the seb_project folder.\n",
    "\n",
    "2. Make sure you have the following required files in the same folder called seb_project...\n",
    "\n",
    "    * analysts_data.py\n",
    "    * app.py\n",
    "    * resolve_canonical_urls.py\n",
    "    * yf_scraping.py\n",
    "    * tickers.csv\n",
    "    * snowflake_chart.csv\n",
    "    * .streamlit\n",
    "        * .secrets.toml\n",
    "\n",
    "3. Run yf_scraping.py to scrape fresh data from yahoo finance\n",
    "\n",
    "4. Run analysts_data.py to scrape fresh data from yahoo finance\n",
    "\n",
    "5. Obtain proper cf_clearance from https://simplywall.st/stocks/us/tech/nasdaq-aapl/apple (or any other stock from the website..)\n",
    "\n",
    "    * Open Google Chrome\n",
    "    * Go to https://simplywall.st/stocks/us/tech/nasdaq-aapl/apple\n",
    "    * Go to DevTools --> Application Tab\n",
    "    * Refresh tab, Filter for fresh cf_clearance, copy cf_clearance cookie value\n",
    "    * Open resolve_canonical_urls.py\n",
    "    * Paste cf_clearance cookie value in \"Replace with your valid cookie\" section. You will see a code already there that you can replace with your own.\n",
    "    * Run resolve_canonical_urls.py\n",
    "        * OBS! If you receive an authorization error due to cloudflare don't worry, data has already been provided to run the streamlit dashboard.\n",
    "\n",
    "6. Make sure you have .streamlit folder with secrets.toml file inside containing an OpenAI Key. Paste your own key if you wish or use key provided.\n",
    "\n",
    "7. Open app.py and type \"streamlit run app.py\" in powershell.\n"
   ]
  },
  {
   "cell_type": "markdown",
   "id": "e4e8c90c",
   "metadata": {},
   "source": [
    "# <div style=\"text-align: center; font-size: 40px;\"><strong>Improvements</strong></div>"
   ]
  },
  {
   "cell_type": "markdown",
   "id": "37b91d01",
   "metadata": {},
   "source": [
    "1. Adding stocks that are not listed on the NYSE, and modifying the dividend calculator to fit different countries' \n",
    "2. Adding a comparison feature to compare with another stock, sector average, or industry average.\n",
    "3. Color coding of key statistics to show whether they are low or high in comparison to the industry or sector average/standard.\n",
    "4. Modify code to save to .sql files instead of .csv once data becomes too heavy\n",
    "5. Create .bat file and use Windows Scheduler or a similar program to automate the data pipeline.\n",
    "6. Use of semi-structured or unstructured data such as JSON files or PDFs of important information, such as earnings reports.\n",
    "7. Use of Sentiment Analysis such as reddit mentions, or x mentions\n",
    "8. A section in the dashboard for the latest news articles from trusted sources\n",
    "9. Further graphical enhancements to the dashboard such as company logos\n",
    "10. Creation of a specialized Momentum Index"
   ]
  },
  {
   "cell_type": "markdown",
   "id": "abeb2b19",
   "metadata": {},
   "source": [
    "# <div style=\"text-align: center; font-size: 40px;\"><strong>Challenges and Learnings</strong></div>"
   ]
  },
  {
   "cell_type": "markdown",
   "id": "2467b36a",
   "metadata": {},
   "source": [
    "* Challenges \n",
    "    * The most challenging part was probably finding a way around cloudflare to extract the data for the snowflake chart. Designing the dashboard was also tedious because there was a lot of data and a lot I wanted to show. I also did not have a lot of experience using Streamlit before.\n",
    "* Learnings \n",
    "    * That Streamlit is an EXCELLENT tool and perhaps even my favorite for visualizing data now due to the speed at which you can create something and the level customizability. I also learned more about cloudflare and authentication for websites in general. Finally, I learned a lot about the statistics being extracted or created, and what they mean and what they are used for. Hopefully I can invest better now.\n",
    "* What I am proud of...\n",
    "    * I think its probably similar to my anwsers from the challenges that I had. When you go through something difficult you grow a lot, and this is a great feeling to have. Also, this project was very interesting and fun for me from the beginning. It was a very similar idea I had for a personal project for some time, so I am thrilled that this project has helped me to kick start that idea, and I am proud that the initial idea I had was perhaps a good one."
   ]
  },
  {
   "cell_type": "markdown",
   "id": "0b97bf51",
   "metadata": {},
   "source": []
  }
 ],
 "metadata": {
  "language_info": {
   "name": "python"
  }
 },
 "nbformat": 4,
 "nbformat_minor": 5
}
